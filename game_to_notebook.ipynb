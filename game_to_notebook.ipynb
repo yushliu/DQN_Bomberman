{
 "cells": [
  {
   "cell_type": "code",
   "execution_count": 1,
   "metadata": {},
   "outputs": [],
   "source": [
    "#from game import *\n",
    "#import brick"
   ]
  },
  {
   "cell_type": "code",
   "execution_count": 2,
   "metadata": {},
   "outputs": [],
   "source": [
    "from collections import namedtuple\n",
    "import torch\n",
    "import torch.nn as nn\n",
    "import torch.optim as optim\n",
    "import torch.nn.functional as F\n",
    "import torchvision.transforms as T\n",
    "import numpy as np\n",
    "from itertools import count\n",
    "import random\n",
    "import math\n",
    "import time\n",
    "import matplotlib.pyplot as plt\n",
    "from bomb import Bomb\n",
    "import copy"
   ]
  },
  {
   "cell_type": "markdown",
   "metadata": {},
   "source": [
    "### ALL THE VARIABLES"
   ]
  },
  {
   "cell_type": "code",
   "execution_count": 3,
   "metadata": {},
   "outputs": [
    {
     "name": "stdout",
     "output_type": "stream",
     "text": [
      "cuda\n"
     ]
    }
   ],
   "source": [
    "device = torch.device(\"cuda\" if torch.cuda.is_available() else \"cpu\")\n",
    "print(device)"
   ]
  },
  {
   "cell_type": "code",
   "execution_count": 4,
   "metadata": {},
   "outputs": [],
   "source": [
    "action_space = ('up', 'down', 'left', 'right', 'put', 'not')\n",
    "prev_action = 'not'"
   ]
  },
  {
   "cell_type": "code",
   "execution_count": 5,
   "metadata": {},
   "outputs": [],
   "source": [
    "survive_time_player_1 = []\n",
    "survive_time_player_4 = []\n",
    "reward_every_round_player_1 = []\n",
    "reward_every_round_player_4 = []"
   ]
  },
  {
   "cell_type": "code",
   "execution_count": 6,
   "metadata": {},
   "outputs": [],
   "source": [
    "Transition = namedtuple('Transition', ('state', 'action', 'next_state', 'reward'))"
   ]
  },
  {
   "cell_type": "code",
   "execution_count": 7,
   "metadata": {},
   "outputs": [],
   "source": [
    "all_symbol_in_game = (' ', 'X', '%', 'P', '0', '1', '2', 'e', 'B', 'Q')"
   ]
  },
  {
   "cell_type": "code",
   "execution_count": 8,
   "metadata": {},
   "outputs": [],
   "source": [
    "BATCH_SIZE = 256\n",
    "GAMMA = 0.99\n",
    "EPS_START = 0.8\n",
    "EPS_END = 0.05\n",
    "EPS_DECAY = 200\n",
    "TARGET_UPDATE = 3"
   ]
  },
  {
   "cell_type": "code",
   "execution_count": 9,
   "metadata": {},
   "outputs": [],
   "source": [
    "maximum_round = 1000"
   ]
  },
  {
   "cell_type": "markdown",
   "metadata": {},
   "source": [
    "### ALL THE VARIABLES"
   ]
  },
  {
   "cell_type": "code",
   "execution_count": 10,
   "metadata": {},
   "outputs": [],
   "source": [
    "import sys\n",
    "from board import *\n",
    "from gameConfig import *\n",
    "import gameConfig\n",
    "from bomberman import *\n",
    "from getch import *\n",
    "import bomb\n",
    "#from bomb import bomb_plant1\n",
    "#from bomb import bomb_plant2\n",
    "#from bomb import bomb_plant3\n",
    "#from bomb import bomb_plant4\n",
    "import brick\n",
    "import os\n",
    "import time\n",
    "import random\n",
    "from algorithms import random_move\n",
    "from IPython.display import clear_output"
   ]
  },
  {
   "cell_type": "code",
   "execution_count": 11,
   "metadata": {},
   "outputs": [],
   "source": [
    "class Game:\n",
    "    def __init__(self, level):\n",
    "        self.level = level\n",
    "\n",
    "Game_obj = Game(gameConfig.level)\n",
    "#count_game_running = 1 #check if the game is working\n",
    "tr = 0\n",
    "tr2 = 0\n",
    "brick_obj = brick.Brick(Game_obj)"
   ]
  },
  {
   "cell_type": "code",
   "execution_count": 12,
   "metadata": {},
   "outputs": [],
   "source": [
    "obj1 = Bomberman(2, 2, 0, 3, global_arr, ar1)\n",
    "obj4 = Bomberman(38, 74, 0, 3, global_arr, ar4)\n",
    "bomb_plant1 = Bomb(obj1.x, obj1.y, obj1)\n",
    "bomb_plant4 = Bomb(obj4.x, obj4.y, obj4)"
   ]
  },
  {
   "cell_type": "code",
   "execution_count": 13,
   "metadata": {},
   "outputs": [],
   "source": [
    "init_screen = None\n",
    "screen_height = None\n",
    "screen_width = None\n",
    "n_actions = len(action_space)"
   ]
  },
  {
   "cell_type": "code",
   "execution_count": 14,
   "metadata": {},
   "outputs": [],
   "source": [
    "cur_round_count = 0"
   ]
  },
  {
   "cell_type": "code",
   "execution_count": 15,
   "metadata": {},
   "outputs": [],
   "source": [
    "ocuupied_block = ('X', '%','0', '1', '2', 'B', 'P', 'Q')"
   ]
  },
  {
   "cell_type": "code",
   "execution_count": 16,
   "metadata": {},
   "outputs": [],
   "source": [
    "def str_arr_to_float_arr(arr):\n",
    "    #2d arr\n",
    "    \n",
    "    for x in range(len(arr)):\n",
    "        for y in range(len(arr[0])):\n",
    "            if arr[x][y] not in all_symbol_in_game:\n",
    "                #print('not found in symbol list', arr[x][y])\n",
    "                a = 0\n",
    "            else:\n",
    "                arr[x][y] = float(all_symbol_in_game.index(arr[x][y]))\n",
    "    \n",
    "    #state = torch.cat([state, state, state])\n",
    "    #state.reshape(3, 42, 80)\n",
    "    arr = np.array(arr)\n",
    "    arr = torch.from_numpy(arr)\n",
    "    arr2 = torch.empty(1, 1, 42, 80)\n",
    "    arr2[0] = arr\n",
    "    arr2 = arr2.to(device)\n",
    "    #arr = arr.to(device)\n",
    "    #arr = torch.cat([arr, arr, arr])\n",
    "    #arr = arr.view(3, 42, 80)\n",
    "    #arr = arr.view(3, 3, 3)\n",
    "    return arr2"
   ]
  },
  {
   "cell_type": "code",
   "execution_count": 17,
   "metadata": {},
   "outputs": [
    {
     "data": {
      "text/plain": [
       "(1, 1)"
      ]
     },
     "execution_count": 17,
     "metadata": {},
     "output_type": "execute_result"
    }
   ],
   "source": [
    "if init_screen == None:\n",
    "    bp.make_board()\n",
    "    test_arr = global_arr.copy()\n",
    "    test_arr = str_arr_to_float_arr(test_arr)\n",
    "\n",
    "if screen_height == None:\n",
    "    screen_height = len(test_arr)\n",
    "    \n",
    "if screen_width == None:\n",
    "    screen_width = len(test_arr[0])\n",
    "\n",
    "screen_height, screen_width"
   ]
  },
  {
   "cell_type": "markdown",
   "metadata": {},
   "source": [
    "### NN MODEL"
   ]
  },
  {
   "cell_type": "code",
   "execution_count": 18,
   "metadata": {},
   "outputs": [],
   "source": [
    "class ReplayMemory(object):\n",
    "\n",
    "    def __init__(self, capacity):\n",
    "        self.capacity = capacity\n",
    "        self.memory = []\n",
    "        self.position = 0\n",
    "\n",
    "    def push(self, *args):\n",
    "        \"\"\"Saves a transition.\"\"\"\n",
    "        if len(self.memory) < self.capacity:\n",
    "            self.memory.append(None)\n",
    "        self.memory[self.position] = Transition(*args)\n",
    "        self.position = (self.position + 1) % self.capacity\n",
    "\n",
    "    def sample(self, batch_size):\n",
    "        return random.sample(self.memory, batch_size)\n",
    "\n",
    "    def __len__(self):\n",
    "        return len(self.memory)"
   ]
  },
  {
   "cell_type": "code",
   "execution_count": 19,
   "metadata": {},
   "outputs": [],
   "source": [
    "class DQN(nn.Module):\n",
    "\n",
    "    def __init__(self, h, w, outputs):\n",
    "        super(DQN, self).__init__()\n",
    "            \n",
    "        #42*80\n",
    "        self.conv1 = nn.Conv2d(1, 32, (8, 12), (2, 4), 0)\n",
    "        #18*18\n",
    "        self.conv2 = nn.Conv2d(32, 64, 6, 2, 0)\n",
    "        #7*7\n",
    "        self.conv3 = nn.Conv2d(64, 64, 3, 2, 0)\n",
    "        #3*3\n",
    "        '''\n",
    "        #42*80\n",
    "        self.conv1 = nn.Conv2d(1, 32, (6, 8), (2, 3), 0)\n",
    "        #19*25\n",
    "        #self.bn1 = nn.BatchNorm2d(32)\n",
    "        self.conv2 = nn.Conv2d(32, 64, 5, 2, 0)\n",
    "        #8*11\n",
    "        self.conv3 = nn.Conv2d(64, 64, 3, 2, 0)\n",
    "        #3 5\n",
    "        \n",
    "        #self.bn2 = nn.BatchNorm2d(64)\n",
    "        self.conv3 = nn.Conv2d(64, 128, 3, 1, 0)\n",
    "        #*23>12*11\n",
    "        #self.bn3 = nn.BatchNorm2d(128)\n",
    "        self.conv4 = nn.Conv2d(128, 128, 3, 1, 0)\n",
    "        #10*9>5*4\n",
    "        '''\n",
    "        \n",
    "        \n",
    "        #self.conv1 = nn.Conv2d(1, 32, 12, 4, 0)\n",
    "        \n",
    "        # Number of Linear input connections depends on output of conv2d layers\n",
    "        # and therefore the input image size, so compute it.\n",
    "        \n",
    "        #print(linear_input_size)\n",
    "        linear_input_size = 3*3*64 #576\n",
    "        self.fc1 = nn.Linear(linear_input_size, linear_input_size//4)\n",
    "        self.fc2 = nn.Linear(linear_input_size//4, linear_input_size//16)\n",
    "        self.fc3 = nn.Linear(linear_input_size//16, outputs)\n",
    "        #self.fc4 = nn.Linear(linear_input_size//8, outputs)\n",
    "    # Called with either one element to determine next action, or a batch\n",
    "    # during optimization. Returns tensor([[left0exp,right0exp]...]).\n",
    "    def forward(self, x):\n",
    "        x = F.relu(self.conv1(x))\n",
    "        x = F.relu(self.conv2(x))\n",
    "        x = F.relu(self.conv3(x))\n",
    "        #x = F.max_pool2d(F.relu(self.conv4(x)),2)\n",
    "        x = x.view(x.size(0), -1)\n",
    "        x = F.relu(self.fc1(x))\n",
    "        x = F.relu(self.fc2(x))\n",
    "        #x = F.relu(self.fc3(x))\n",
    "        x = self.fc3(x)\n",
    "        return x"
   ]
  },
  {
   "cell_type": "code",
   "execution_count": 20,
   "metadata": {},
   "outputs": [],
   "source": [
    "def optimize_model(memory, policy_net, target_net, optimizer):\n",
    "    #global memory_player1, memory_player4\n",
    "    \n",
    "    if len(memory) < BATCH_SIZE:\n",
    "        return\n",
    "    transitions = memory.sample(BATCH_SIZE)\n",
    "    # Transpose the batch (see https://stackoverflow.com/a/19343/3343043 for\n",
    "    # detailed explanation). This converts batch-array of Transitions\n",
    "    # to Transition of batch-arrays.\n",
    "    batch = Transition(*zip(*transitions))\n",
    "\n",
    "    # Compute a mask of non-final states and concatenate the batch elements\n",
    "    # (a final state would've been the one after which simulation ended)\n",
    "    non_final_mask = torch.tensor(tuple(map(lambda s: s is not None, batch.next_state)), device=device, dtype=torch.bool).to(device)\n",
    "    non_final_next_states = torch.cat([s for s in batch.next_state if s is not None])\n",
    "    state_batch = torch.cat(batch.state)\n",
    "    action_batch = torch.cat(batch.action)\n",
    "    reward_batch = torch.cat(batch.reward)\n",
    "\n",
    "    # 1. Compute Q(s_t, a) - the model computes Q(s_t), then we select the\n",
    "    #    columns of actions taken. These are the actions which would've been taken\n",
    "    #    for each batch state according to policy_net\n",
    "    state_action_values = policy_net(state_batch).gather(1, action_batch)\n",
    "\n",
    "    # 2. Compute V(s_{t+1}) for all next states.\n",
    "    #    Expected values of actions for non_final_next_states are computed based\n",
    "    #    on the \"older\" target_net; selecting their best reward with max(1)[0].\n",
    "    #    This is merged based on the mask, such that we'll have either the expected\n",
    "    #    state value or 0 in case the state was final.\n",
    "    next_state_values = torch.zeros(BATCH_SIZE, device=device)\n",
    "    next_state_values[non_final_mask] = target_net(non_final_next_states).max(1)[0].detach()\n",
    "\n",
    "    # 3. Compute the expected Q values\n",
    "    # 4. Compute Huber loss\n",
    "  \n",
    "    ### BEGIN SOLUTION\n",
    "    expected_state_action_values = (next_state_values * GAMMA) + reward_batch\n",
    "    loss = F.smooth_l1_loss(state_action_values, expected_state_action_values.unsqueeze(1))\n",
    "    ### END SOLUTION\n",
    "\n",
    "    # 5. Optimize the model\n",
    "    optimizer.zero_grad()\n",
    "    loss.backward()\n",
    "    for param in policy_net.parameters():\n",
    "        param.grad.data.clamp_(-1, 1)\n",
    "    optimizer.step()"
   ]
  },
  {
   "cell_type": "code",
   "execution_count": 21,
   "metadata": {},
   "outputs": [],
   "source": [
    "policy_net = DQN(screen_height, screen_width, n_actions).to(device)\n",
    "policy_net2 = DQN(screen_height, screen_width, n_actions).to(device)\n",
    "target_net = DQN(screen_height, screen_width, n_actions).to(device)\n",
    "target_net2 = DQN(screen_height, screen_width, n_actions).to(device)\n",
    "\n",
    "#policy_net = torch.load('./model/policy_net_20230103_21_14_40_episode500').to(device)\n",
    "#target_net = torch.load('./model/target_net_20230103_21_14_40_episode500').to(device)\n",
    "\n",
    "\n",
    "target_net.load_state_dict(policy_net.state_dict())\n",
    "target_net.eval()\n",
    "target_net2.load_state_dict(policy_net2.state_dict())\n",
    "target_net2.eval()\n",
    "\n",
    "optimizer = optim.RMSprop(policy_net.parameters())\n",
    "optimizer2 = optim.RMSprop(policy_net2.parameters())\n",
    "\n",
    "#memory = ReplayMemory(20000)\n",
    "memory_player1 = ReplayMemory(20000)\n",
    "memory_player4 = ReplayMemory(20000)\n",
    "\n",
    "steps_done = 0"
   ]
  },
  {
   "cell_type": "code",
   "execution_count": 22,
   "metadata": {},
   "outputs": [],
   "source": [
    "def numpy_lr_up(tensor_arr):\n",
    "    #input is torch.tensor\n",
    "    tensor_arr = torch.fliplr(tensor_arr)\n",
    "    tensor_arr = torch.flipud(tensor_arr).to(device)\n",
    "    \n",
    "    return tensor_arr"
   ]
  },
  {
   "cell_type": "markdown",
   "metadata": {},
   "source": [
    "### GAME"
   ]
  },
  {
   "cell_type": "code",
   "execution_count": 23,
   "metadata": {},
   "outputs": [],
   "source": [
    "def check_Game_Score():\n",
    "    global bomb_plant1, bomb_plant4, bomb_bin1, bomb_bin4, cur_round_count, reward_player_1, reward_player_4\n",
    "    for entity in bomb_bin1:\n",
    "        explode_time = 3 + (tr - cur_round_count)//2\n",
    "        if(explode_time >= 0):\n",
    "            entity.start_counter(explode_time - 1)\n",
    "                #bomb_plant2.start_counter(explode_time - 1)\n",
    "            if(explode_time < 1):\n",
    "                entity.start_counter('B')\n",
    "                entity.explosion()\n",
    "        elif(explode_time < 0):\n",
    "            entity.explode()\n",
    "            if(obj1.hanged_bomber(entity.present_Coordiate_Bomb())):\n",
    "                obj1.set_Pos(2, 2)\n",
    "                reward_player_1 -= 1000\n",
    "                obj1.hanged()\n",
    "                obj1.curr()\n",
    "            if(obj4.hanged_bomber(entity.present_Coordiate_Bomb())):\n",
    "                obj4.set_Pos(38, 74)\n",
    "                reward_player_1 += 10000\n",
    "                reward_player_4 -= 1000\n",
    "                obj4.hanged()\n",
    "                obj4.curr()\n",
    "            del bomb_bin1[:]\n",
    "    for entity in bomb_bin4:\n",
    "        explode_time = 3 + (tr2 - cur_round_count)//2\n",
    "        if(explode_time >= 0):\n",
    "            entity.start_counter(explode_time - 1)\n",
    "                #bomb_plant2.start_counter(explode_time - 1)\n",
    "            if(explode_time < 1):\n",
    "                entity.start_counter('B')\n",
    "                entity.explosion()\n",
    "        elif(explode_time < 0):\n",
    "            entity.explode()\n",
    "            if(obj1.hanged_bomber(entity.present_Coordiate_Bomb())):\n",
    "                obj1.set_Pos(2, 2)\n",
    "                reward_player_1 -= 1000\n",
    "                reward_player_4 += 10000\n",
    "                obj1.hanged()\n",
    "                obj1.curr()\n",
    "            if(obj4.hanged_bomber(entity.present_Coordiate_Bomb())):\n",
    "                obj4.set_Pos(38, 74)\n",
    "                reward_player_4 -= 1000\n",
    "                obj4.hanged()\n",
    "                obj4.curr()\n",
    "            del bomb_bin4[:]\n"
   ]
  },
  {
   "cell_type": "code",
   "execution_count": 24,
   "metadata": {},
   "outputs": [],
   "source": [
    "def print_board():\n",
    "    global obj1, obj4, brick_obj, tr, bp, bomb_bin1, bomb_bin4, global_arr\n",
    "    #clear the terminal before printing new infos\n",
    "    #os.system('clear') # for linux\n",
    "    #os.system('cls') # for windows powershell\n",
    "    clear_output(wait=True)\n",
    "    \n",
    "    #global flag1\n",
    "    if(obj1.lives <= 0):\n",
    "        #print('player 1 lose')\n",
    "        return\n",
    "        #loose()\n",
    "        \n",
    "    if(obj4.lives <= 0):\n",
    "        #print('player 4 lose')\n",
    "        return\n",
    "        #loose()\n",
    "        \n",
    "    # os.system('tput reset')\n",
    "    # if(len(enemybin)==0):\n",
    "    # \tyouwin()\n",
    "    #print(colored(\"\\t\\t\\t\\t    BOMBERMAN \\t\\t\\t\\t\\t\", \"green\", attrs=[\"bold\"]))\n",
    "    bp.make_board()\n",
    "    brick_obj.entity_build()\n",
    "    \n",
    "    #set the position here\n",
    "    obj1.curr()\n",
    "    obj4.curr()\n",
    "    \n",
    "    #setup_bomb_bin\n",
    "    def setup_bomb_bin(bomb_bin):\n",
    "        for i in bomb_bin:\n",
    "            i.set_bomb()\n",
    "    setup_bomb_bin(bomb_bin1)\n",
    "    setup_bomb_bin(bomb_bin4)\n",
    "\n",
    "    # bricks.Bricks()\n",
    "    check_Game_Score()\n",
    "    \n",
    "    #print the maze\n",
    "    \n",
    "    #print(len(global_arr), len(global_arr[0]), Length, Width)\n",
    "    \n",
    "    for i in range(Length):\n",
    "        for j in range(Width):\n",
    "            print(global_arr[i][j], end='')\n",
    "        print()\n",
    "    print(f'player1 live {obj1.lives}')\n",
    "    print(f'player4 live {obj4.lives}')\n",
    "    \n",
    "    "
   ]
  },
  {
   "cell_type": "code",
   "execution_count": 25,
   "metadata": {},
   "outputs": [],
   "source": [
    "def launch_the_game(state_temp):\n",
    "\n",
    "    global Game_obj, count_game_running, tr, tr2, brick_obj, bomb_bin1, bomb_bin4, obj1, obj4, bomb_plant1, bomb_plant4, count_game_running\n",
    "    global cumulate_reward_player_1, cumulate_reward_player_4\n",
    "    global maximum_round\n",
    "    global cur_round_count\n",
    "    global global_arr\n",
    "    global ocuupied_block\n",
    "    global reward_player_1\n",
    "    global reward_player_4\n",
    "    global cur_dist\n",
    "    Game_obj = Game(gameConfig.level)\n",
    "    count_game_running = 1 #check if the game is working\n",
    "    tr = 0\n",
    "    tr2 = 0\n",
    "    brick_obj = brick.Brick(Game_obj)\n",
    "    \n",
    "    result = ''\n",
    "    cur_round_count = 0\n",
    "    \n",
    "    state = state_temp.clone()\n",
    "    print_board()\n",
    "    while count_game_running != 0 and cur_round_count < maximum_round:\n",
    "        #survive reward\n",
    "        reward_player_1 = 0\n",
    "        reward_player_4 = 0\n",
    "        cur_round_count += 1\n",
    "              \n",
    "        def obj_dist():\n",
    "            x1, y1 = obj1.get_pos()\n",
    "            x2, y2 = obj4.get_pos()\n",
    "            return (abs(x1-x2)/2 + abs(y1-y2)/4)\n",
    "        cur_dist = obj_dist()\n",
    "        \n",
    "        def update_status(ch, obj):\n",
    "            global ocuupied_block, global_arr, cur_dist\n",
    "            \n",
    "            [posx, posy] = obj.get_pos() #(x, y)\n",
    "            \n",
    "            if(ch == 'up'):\n",
    "                \n",
    "                if posx<3 or global_arr[posx-2][posy] in ocuupied_block:\n",
    "                    return 0\n",
    "                \n",
    "                obj.remove()\n",
    "                obj.up_Move()\n",
    "                obj.curr()\n",
    "\n",
    "            elif(ch == 'down'):\n",
    "                \n",
    "                if posx>36 or global_arr[posx+2][posy] in ocuupied_block:\n",
    "                    return 0\n",
    "                \n",
    "                obj.remove()\n",
    "                obj.down_Move()\n",
    "                obj.curr()\n",
    "\n",
    "            elif(ch == 'left'):\n",
    "                \n",
    "                if posy-4 <2 or global_arr[posx][posy - 4] in ocuupied_block:\n",
    "                    return 0\n",
    "                \n",
    "                obj.remove()\n",
    "                obj.left_Move()\n",
    "                obj.curr()\n",
    "\n",
    "            elif(ch == 'right'):\n",
    "                \n",
    "                if posy+4 > 76 or global_arr[posx][posy+4] in ocuupied_block:\n",
    "                    return 0\n",
    "                \n",
    "                obj.remove()\n",
    "                obj.right_Move()\n",
    "                obj.curr()\n",
    "                \n",
    "            if(cur_dist > obj_dist()):\n",
    "                cur_dist = obj_dist()\n",
    "                return 30\n",
    "            elif(cur_dist < obj_dist()):\n",
    "                cur_dist = obj_dist()\n",
    "                return -20\n",
    "            return 0\n",
    "        \n",
    "        #-----player1-----\n",
    "        \n",
    "        choice = select_action(state, policy_net)\n",
    "        action = action_space[choice]\n",
    "        \n",
    "        #reward, _ = step(action)\n",
    "        \n",
    "                \n",
    "        #state same, so clone only in player4\n",
    "        #state = next_state.clone()\n",
    "        \n",
    "        #not modify below\n",
    "        ch = action\n",
    "        #ch = input('input action')\n",
    "        \n",
    "        reward_player_1 += update_status(ch, obj1)\n",
    "        if(ch == 'put'):\n",
    "            if(len(bomb_bin1) == 0):\n",
    "                bomb_bin1.append(bomb_plant1)\n",
    "                bomb_bin1[0].set_coordinate()\n",
    "                tr = cur_round_count\n",
    "                reward_player_1 += 600*np.exp(-obj_dist()/6)\n",
    "        \n",
    "        #-----player1-----\n",
    "        \n",
    "        #-----player4-----\n",
    "        \n",
    "        choice = select_action(state, policy_net2)\n",
    "        action = action_space[choice]\n",
    "        \n",
    "        #reward, _ = step(action)\n",
    "         \n",
    "        #call this line only once\n",
    "        #state = next_state.clone()\n",
    "        #state_change_back\n",
    "        #state = numpy_lr_up(state)\n",
    "        \n",
    "        #not modify below\n",
    "        ch = action\n",
    "        #ch = random_move.random_move()\n",
    "        #ch = input('please input player4 move\\n')\n",
    "        \n",
    "        reward_player_4 += update_status(ch, obj4)\n",
    "        if(ch == 'put'):\n",
    "            if(len(bomb_bin4) == 0):\n",
    "                bomb_bin4.append(bomb_plant4)\n",
    "                bomb_bin4[0].set_coordinate()\n",
    "                tr2 = cur_round_count\n",
    "                reward_player_4 += 600*np.exp(-(obj_dist())/6)\n",
    "                \n",
    "        #-----player4-----\n",
    "        \n",
    "        print_board()\n",
    "        \n",
    "        #----reward & memory----\n",
    "        \n",
    "        if cur_round_count == maximum_round-1:\n",
    "            count_game_running = 0\n",
    "            result = 'same'\n",
    "        \n",
    "        if obj1.lives > obj4.lives and obj4.lives <= 0:\n",
    "            count_game_running = 0\n",
    "            #obj1 win\n",
    "            result = 'player4'\n",
    "        elif obj4.lives > obj1.lives and obj1.lives <= 0:\n",
    "            count_game_running = 0\n",
    "            #obj4 win\n",
    "            result = 'player1'\n",
    "        elif obj1.lives <= 0 and obj4.lives <= 0:\n",
    "            count_game_running = 0\n",
    "            result = 'same'\n",
    "            \n",
    "        for entity in bomb_bin1:\n",
    "            if(obj1.hanged_bomber(entity.present_Coordiate_Bomb())):\n",
    "                reward_player_1 -= 50\n",
    "            if(obj4.hanged_bomber(entity.present_Coordiate_Bomb())):\n",
    "                reward_player_1 += 50\n",
    "                reward_player_4 -= 50\n",
    "        for entity in bomb_bin4:\n",
    "            if(obj1.hanged_bomber(entity.present_Coordiate_Bomb())):\n",
    "                reward_player_1 -= 50\n",
    "                reward_player_4 += 50\n",
    "            if(obj4.hanged_bomber(entity.present_Coordiate_Bomb())):\n",
    "                reward_player_4 -= 50\n",
    "        \n",
    "        \n",
    "        print(\"reward_player_1:\",reward_player_1)\n",
    "        print(\"reward_player_4:\",reward_player_4)\n",
    "        reward_player_1 = torch.tensor([reward_player_1], device=device).to(device)\n",
    "        cumulate_reward_player_1[0] += reward_player_1[0]\n",
    "        reward_player_4 = torch.tensor([reward_player_4], device=device).to(device)\n",
    "        cumulate_reward_player_4[0] += reward_player_4[0]\n",
    "        \n",
    "        next_state = copy.deepcopy(global_arr)\n",
    "        next_state = str_arr_to_float_arr(next_state)\n",
    "        \n",
    "        memory_player1.push(state, choice, next_state, reward_player_1)\n",
    "        \n",
    "        #state = numpy_lr_up(state)\n",
    "        #next_state = numpy_lr_up(next_state)\n",
    "        \n",
    "        memory_player4.push(state, choice, next_state, reward_player_4)\n",
    "                \n",
    "        optimize_model(memory_player1, policy_net, target_net, optimizer)\n",
    "        optimize_model(memory_player4, policy_net2, target_net2, optimizer2)\n",
    "        #----reward & memory----\n",
    "        #control the running speed of the application        \n",
    "        print(cur_round_count, cur_dist)\n",
    "        \n",
    "        #time.sleep(0.5)\n",
    "\n",
    "    if count_game_running == 0 and result != '':\n",
    "        return result, cur_round_count\n",
    "        \n",
    "        #os.system('clear') # for linux\n",
    "        #os.system('cls') # for windows powershell"
   ]
  },
  {
   "cell_type": "code",
   "execution_count": 26,
   "metadata": {},
   "outputs": [],
   "source": [
    "def reset_game():\n",
    "    \n",
    "    #for variables in gameConfig.py\n",
    "    global bomb_bin1, bomb_bin4, dynamite_arr, setbomb, Wallmade, Enemymade, setbrick, score, bp, global_arr\n",
    "    bomb_bin1.clear()\n",
    "    bomb_bin4.clear()\n",
    "    dynamite_arr = [['e', 'e', 'e', 'e'], ['e', 'e', 'e', 'e']]\n",
    "    setbomb = 0\n",
    "    Wallmade = True\n",
    "    Enemymade = False\n",
    "    setbrick.clear()\n",
    "    score = 0\n",
    "    \n",
    "    #for variables in bomberman.py\n",
    "    global obj1, obj4\n",
    "    obj1 = Bomberman(2, 2, 0, 3, global_arr, ar1)\n",
    "    obj4 = Bomberman(38, 74, 0, 3, global_arr, ar4)\n",
    "    \n",
    "    #default bomb_plant\n",
    "    global bomb_plant1, bomb_plant4\n",
    "    bomb_plant1 = bomb.Bomb(obj1.x, obj1.y, obj1)\n",
    "    bomb_plant4 = bomb.Bomb(obj4.x, obj4.y, obj4)\n",
    "    \n",
    "    #for variables in board.py\n",
    "    bp = Board(Length, Width)\n",
    "    #bp.make_board()\n",
    "    \n",
    "    global Game_obj, tr, brick_obj\n",
    "    Game_obj = Game(gameConfig.level)\n",
    "    #count_game_running = 1 #check if the game is working\n",
    "    tr = 0\n",
    "    brick_obj = brick.Brick(Game_obj)"
   ]
  },
  {
   "cell_type": "markdown",
   "metadata": {},
   "source": [
    "### TEST"
   ]
  },
  {
   "cell_type": "code",
   "execution_count": 27,
   "metadata": {},
   "outputs": [],
   "source": [
    "#reset_game()\n",
    "#launch_the_game()"
   ]
  },
  {
   "cell_type": "code",
   "execution_count": 28,
   "metadata": {},
   "outputs": [],
   "source": [
    "reset_game()"
   ]
  },
  {
   "cell_type": "code",
   "execution_count": 29,
   "metadata": {},
   "outputs": [],
   "source": [
    "def select_action(state, policy_net):\n",
    "    global steps_done\n",
    "    \n",
    "    if state.dtype != torch.float32:\n",
    "        state = state.to(torch.float32)\n",
    "    \n",
    "    sample = random.random()\n",
    "    eps_threshold = EPS_END + (EPS_START - EPS_END) * math.exp(-1. * steps_done / EPS_DECAY)\n",
    "    steps_done += 1\n",
    "    \n",
    "    if sample > eps_threshold:\n",
    "        with torch.no_grad():\n",
    "            # t.max(1) will return largest column value of each row.\n",
    "            # second column on max result is index of where max element was\n",
    "            # found, so we pick action with the larger expected reward.\n",
    "            #policy_net = policy_net.float()\n",
    "            #state = state.float()\n",
    "            #state = torch.unsqueeze(state, dim=0)\n",
    "            #print(state.size())\n",
    "            \n",
    "            #transform into 3d\n",
    "            #state = torch.cat([state, state, state])\n",
    "            #state.reshape(3, 42, 80)\n",
    "            \n",
    "            result = policy_net(state).max(1)[1].view(1, 1)\n",
    "            #print(result)\n",
    "            return result\n",
    "    else:\n",
    "        return torch.tensor([[random.randrange(n_actions)]], device=device, dtype=torch.long).to(device)"
   ]
  },
  {
   "cell_type": "markdown",
   "metadata": {},
   "source": [
    "### TRAIN"
   ]
  },
  {
   "cell_type": "code",
   "execution_count": 30,
   "metadata": {},
   "outputs": [],
   "source": [
    "cumulate_reward_player_4 = torch.zeros(1, device=device)\n",
    "cumulate_reward_player_1 = torch.zeros(1, device=device)\n",
    "#win_memorize = []"
   ]
  },
  {
   "cell_type": "code",
   "execution_count": 31,
   "metadata": {},
   "outputs": [],
   "source": [
    "num_episodes = 50"
   ]
  },
  {
   "cell_type": "code",
   "execution_count": 32,
   "metadata": {
    "scrolled": false
   },
   "outputs": [
    {
     "name": "stdout",
     "output_type": "stream",
     "text": [
      "XXXXXXXXXXXXXXXXXXXXXXXXXXXXXXXXXXXXXXXXXXXXXXXXXXXXXXXXXXXXXXXXXXXXXXXXXXXXXXXX\n",
      "XXXXXXXXXXXXXXXXXXXXXXXXXXXXXXXXXXXXXXXXXXXXXXXXXXXXXXXXXXXXXXXXXXXXXXXXXXXXXXXX\n",
      "XXPPPP                                                                1111    XX\n",
      "XXPPPP                                                                1111    XX\n",
      "XX    XXXX    XXXX%%%%XXXX    XXXX    XXXX    XXXX    XXXX    XXXX    XXXX    XX\n",
      "XX    XXXX    XXXX%%%%XXXX    XXXX    XXXX    XXXX    XXXX    XXXX    XXXX    XX\n",
      "XX                                    %%%%                                    XX\n",
      "XX                                    %%%%                                    XX\n",
      "XX    XXXX    XXXX    XXXX    XXXX    XXXX    XXXX    XXXX    XXXX    XXXX    XX\n",
      "XX    XXXX    XXXX    XXXX    XXXX    XXXX    XXXX    XXXX    XXXX    XXXX    XX\n",
      "XX                                                                            XX\n",
      "XX                                                                            XX\n",
      "XX    XXXX    XXXX    XXXX%%%%XXXX    XXXX    XXXX    XXXX    XXXX    XXXX    XX\n",
      "XX    XXXX    XXXX    XXXX%%%%XXXX    XXXX    XXXX    XXXX    XXXX    XXXX    XX\n",
      "XX    %%%%%%%%%%%%                                            %%%%    %%%%    XX\n",
      "XX    %%%%%%%%%%%%                                            %%%%    %%%%    XX\n",
      "XX    XXXX    XXXX    XXXX    XXXX    XXXX    XXXX%%%%XXXX    XXXX    XXXX    XX\n",
      "XX    XXXX    XXXX    XXXX    XXXX    XXXX    XXXX%%%%XXXX    XXXX    XXXX    XX\n",
      "XX                %%%%                            %%%%                        XX\n",
      "XX                %%%%                            %%%%                        XX\n",
      "XX    XXXX    XXXX    XXXX    XXXX    XXXX    XXXX    XXXX    XXXX    XXXX    XX\n",
      "XX    XXXX    XXXX    XXXX    XXXX    XXXX    XXXX    XXXX    XXXX    XXXX    XX\n",
      "XX                %%%%                                                        XX\n",
      "XX                %%%%                                                        XX\n",
      "XX    XXXX    XXXX    XXXX    XXXX    XXXX%%%%XXXX    XXXX    XXXX    XXXX    XX\n",
      "XX    XXXX    XXXX    XXXX    XXXX    XXXX%%%%XXXX    XXXX    XXXX    XXXX    XX\n",
      "XX    %%%%                                                            %%%%    XX\n",
      "XX    %%%%                                                            %%%%    XX\n",
      "XX    XXXX%%%%XXXX    XXXX    XXXX    XXXX%%%%XXXX    XXXX%%%%XXXX    XXXX    XX\n",
      "XX    XXXX%%%%XXXX    XXXX    XXXX    XXXX%%%%XXXX    XXXX%%%%XXXX    XXXX    XX\n",
      "XX        %%%%%%%%    %%%%                            %%%%                    XX\n",
      "XX        %%%%%%%%    %%%%                            %%%%                    XX\n",
      "XX    XXXX    XXXX    XXXX    XXXX    XXXX    XXXX    XXXX    XXXX    XXXX    XX\n",
      "XX    XXXX    XXXX    XXXX    XXXX    XXXX    XXXX    XXXX    XXXX    XXXX    XX\n",
      "XX        %%%%                                            %%%%                XX\n",
      "XX        %%%%                                            %%%%                XX\n",
      "XX    XXXX    XXXX    XXXX    XXXX    XXXX    XXXX    XXXX    XXXX    XXXX    XX\n",
      "XX    XXXX    XXXX    XXXX    XXXX    XXXX    XXXX    XXXX    XXXX    XXXX    XX\n",
      "XX                                                                            XX\n",
      "XX                                                                            XX\n",
      "XXXXXXXXXXXXXXXXXXXXXXXXXXXXXXXXXXXXXXXXXXXXXXXXXXXXXXXXXXXXXXXXXXXXXXXXXXXXXXXX\n",
      "XXXXXXXXXXXXXXXXXXXXXXXXXXXXXXXXXXXXXXXXXXXXXXXXXXXXXXXXXXXXXXXXXXXXXXXXXXXXXXXX\n",
      "player1 live 0\n",
      "player4 live 2\n",
      "reward_player_1: -1000\n",
      "reward_player_4: -50\n",
      "234 21.0\n"
     ]
    }
   ],
   "source": [
    "for i_episode in range(num_episodes):\n",
    "    \n",
    "    #if init_screen == None:\n",
    "    #    bp.make_board()\n",
    "    #    global_arr = str_arr_to_float_arr(global_arr)\n",
    "    bp.make_board()\n",
    "    state_temp = global_arr.copy()\n",
    "    state_temp = str_arr_to_float_arr(state_temp)\n",
    "    \n",
    "    cumulate_reward_player_1 = torch.zeros(1, device=device)\n",
    "    cumulate_reward_player_4 = torch.zeros(1, device=device)\n",
    "    #start_time = time.time()\n",
    "    #print('game start!!')\n",
    "    #end_time = time.time()\n",
    "    \n",
    "    \n",
    "    #print(state_temp.shape)\n",
    "    result = launch_the_game(state_temp)\n",
    "    survive_time_player_1.append(cur_round_count)\n",
    "    survive_time_player_4.append(cur_round_count)\n",
    "    reward_every_round_player_1.append(cumulate_reward_player_1[0])\n",
    "    reward_every_round_player_4.append(cumulate_reward_player_4[0])\n",
    "    reset_game()\n",
    "    \n",
    "    '''\n",
    "    if result == 'player1':\n",
    "        #round and win\n",
    "        win_memorize.append(1)\n",
    "    elif result == 'same':\n",
    "        win_memorize.append(0.5)\n",
    "    else:\n",
    "        win_memorize.append(0)\n",
    "    '''    \n",
    "    \n",
    "    if i_episode % TARGET_UPDATE == 0:\n",
    "        target_net.load_state_dict(policy_net.state_dict())\n",
    "        target_net2.load_state_dict(policy_net2.state_dict())"
   ]
  },
  {
   "cell_type": "markdown",
   "metadata": {},
   "source": [
    "### SAVE MODEL"
   ]
  },
  {
   "cell_type": "code",
   "execution_count": 33,
   "metadata": {},
   "outputs": [],
   "source": [
    "from datetime import date\n",
    "from datetime import datetime"
   ]
  },
  {
   "cell_type": "code",
   "execution_count": 34,
   "metadata": {},
   "outputs": [
    {
     "data": {
      "text/plain": [
       "'20230108_04_28_34'"
      ]
     },
     "execution_count": 34,
     "metadata": {},
     "output_type": "execute_result"
    }
   ],
   "source": [
    "today = date.today()\n",
    "#d = today.strftime('%Y%m%d')\n",
    "now = datetime.now()\n",
    "d = now.strftime(\"%Y%m%d_%H_%M_%S\")\n",
    "d"
   ]
  },
  {
   "cell_type": "code",
   "execution_count": 35,
   "metadata": {
    "scrolled": true
   },
   "outputs": [
    {
     "data": {
      "text/plain": [
       "[45,\n",
       " 88,\n",
       " 58,\n",
       " 325,\n",
       " 277,\n",
       " 258,\n",
       " 363,\n",
       " 655,\n",
       " 160,\n",
       " 309,\n",
       " 186,\n",
       " 123,\n",
       " 467,\n",
       " 276,\n",
       " 327,\n",
       " 113,\n",
       " 252,\n",
       " 331,\n",
       " 180,\n",
       " 429,\n",
       " 563,\n",
       " 226,\n",
       " 585,\n",
       " 461,\n",
       " 217,\n",
       " 470,\n",
       " 364,\n",
       " 268,\n",
       " 177,\n",
       " 315,\n",
       " 421,\n",
       " 49,\n",
       " 166,\n",
       " 249,\n",
       " 370,\n",
       " 73,\n",
       " 149,\n",
       " 137,\n",
       " 202,\n",
       " 129,\n",
       " 247,\n",
       " 266,\n",
       " 86,\n",
       " 274,\n",
       " 295,\n",
       " 174,\n",
       " 83,\n",
       " 351,\n",
       " 87,\n",
       " 234]"
      ]
     },
     "execution_count": 35,
     "metadata": {},
     "output_type": "execute_result"
    }
   ],
   "source": [
    "survive_time_player_1"
   ]
  },
  {
   "cell_type": "code",
   "execution_count": 36,
   "metadata": {},
   "outputs": [
    {
     "data": {
      "image/png": "[encoded data removed]",
      "text/plain": [
       "<Figure size 640x480 with 1 Axes>"
      ]
     },
     "metadata": {},
     "output_type": "display_data"
    }
   ],
   "source": [
    "plt.plot(survive_time_player_1)\n",
    "plt.savefig(f'./model/survive_time_player_1_{d}_episode{num_episodes}')\n",
    "plt.show()"
   ]
  },
  {
   "cell_type": "code",
   "execution_count": 37,
   "metadata": {},
   "outputs": [
    {
     "data": {
      "image/png": "[encoded data removed]",
      "text/plain": [
       "<Figure size 640x480 with 1 Axes>"
      ]
     },
     "metadata": {},
     "output_type": "display_data"
    }
   ],
   "source": [
    "plt.plot(survive_time_player_4)\n",
    "plt.savefig(f'./model/survive_time_player_4_{d}_episode{num_episodes}')\n",
    "plt.show()"
   ]
  },
  {
   "cell_type": "code",
   "execution_count": 38,
   "metadata": {},
   "outputs": [],
   "source": [
    "reward_every_round_player_1 = [i.cpu() for i in reward_every_round_player_1]\n",
    "reward_every_round_player_4 = [i.cpu() for i in reward_every_round_player_4]"
   ]
  },
  {
   "cell_type": "code",
   "execution_count": 39,
   "metadata": {},
   "outputs": [
    {
     "data": {
      "image/png": "[encoded data removed]",
      "text/plain": [
       "<Figure size 640x480 with 1 Axes>"
      ]
     },
     "metadata": {},
     "output_type": "display_data"
    }
   ],
   "source": [
    "plt.plot(reward_every_round_player_1)\n",
    "plt.savefig(f'./model/reward_player_1_{d}_episode{num_episodes}')\n",
    "plt.show()"
   ]
  },
  {
   "cell_type": "code",
   "execution_count": 40,
   "metadata": {},
   "outputs": [
    {
     "data": {
      "image/png": "[encoded data removed]",
      "text/plain": [
       "<Figure size 640x480 with 1 Axes>"
      ]
     },
     "metadata": {},
     "output_type": "display_data"
    }
   ],
   "source": [
    "plt.plot(reward_every_round_player_4)\n",
    "plt.savefig(f'./model/reward_player_4_{d}_episode{num_episodes}')\n",
    "plt.show()"
   ]
  },
  {
   "cell_type": "code",
   "execution_count": 41,
   "metadata": {},
   "outputs": [],
   "source": [
    "#plt.plot(win_memorize)\n",
    "#plt.savefig(f'./model/reward_{d}_episode{num_episodes}')\n",
    "#plt.show()"
   ]
  },
  {
   "cell_type": "code",
   "execution_count": 42,
   "metadata": {},
   "outputs": [],
   "source": [
    "torch.save(policy_net.state_dict(), f'./model/{d}_policy_net_state_dic_episode{num_episodes}')\n",
    "torch.save(target_net.state_dict(), f'./model/{d}_target_net_state_dic_episode{num_episodes}')"
   ]
  },
  {
   "cell_type": "code",
   "execution_count": 43,
   "metadata": {},
   "outputs": [],
   "source": [
    "torch.save(policy_net, f'./model/{d}_policy_net_episode{num_episodes}')\n",
    "torch.save(target_net, f'./model/{d}_target_net_episode{num_episodes}')\n",
    "torch.save(policy_net2, f'./model/{d}_policy_net2_episode{num_episodes}')\n",
    "torch.save(target_net2, f'./model/{d}_target_net2_episode{num_episodes}')"
   ]
  },
  {
   "cell_type": "code",
   "execution_count": null,
   "metadata": {},
   "outputs": [],
   "source": []
  }
 ],
 "metadata": {
  "kernelspec": {
   "display_name": "Python 3 (ipykernel)",
   "language": "python",
   "name": "python3"
  },
  "language_info": {
   "codemirror_mode": {
    "name": "ipython",
    "version": 3
   },
   "file_extension": ".py",
   "mimetype": "text/x-python",
   "name": "python",
   "nbconvert_exporter": "python",
   "pygments_lexer": "ipython3",
   "version": "3.9.15"
  },
  "vscode": {
   "interpreter": {
    "hash": "8388c5ccc1a8655a4c826c9643271e00eced75d64fbbb742b63c919faad7ed20"
   }
  }
 },
 "nbformat": 4,
 "nbformat_minor": 2
}
